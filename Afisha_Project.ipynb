{
 "cells": [
  {
   "cell_type": "markdown",
   "metadata": {
    "jp-MarkdownHeadingCollapsed": true
   },
   "source": [
    "# 📈 Project: Marketing Analysis and Expense Optimization (Y.Afisha)\n",
    "\n",
    "## Main Objective\n",
    "\n",
    "Optimize Y.Afisha's marketing expenses by analyzing customer behavior. The goal is to understand the user journey and the value each customer brings to the company, determining the **return on investment (ROI)** and the **payback period**.\n",
    "\n",
    "## Available Data\n",
    "\n",
    "The analysis will be based on data from **January 2017 to December 2018**:\n",
    "\n",
    "* **Server Logs:** Y.Afisha access data (usage behavior).\n",
    "* **Dump File (Orders):** All orders and transactions made during the period.\n",
    "* **Marketing Statistics:** Detailed expenses by channel/campaign.\n",
    "\n",
    "## Analysis Scope\n",
    "\n",
    "The project will focus on four key areas:\n",
    "\n",
    "1.  **Product Usage:** How and when users access the product.\n",
    "2.  **Purchase Cycle:** When users make their first purchase after initial access.\n",
    "3.  **Cohort Analysis and LTV:** How much money each customer brings to the company over time (Lifetime Value).\n",
    "4.  **Expense Optimization:** Calculation of Customer Acquisition Cost (CAC) and determination of when marketing expenses will be covered."
   ]
  },
  {
   "cell_type": "markdown",
   "metadata": {},
   "source": [
    "# 1. Data Loading and Preprocessing"
   ]
  },
  {
   "cell_type": "code",
   "execution_count": 2,
   "metadata": {},
   "outputs": [],
   "source": [
    "import pandas as pd\n",
    "import matplotlib.pyplot as plt\n",
    "import seaborn as sns\n",
    "import numpy as np"
   ]
  },
  {
   "cell_type": "code",
   "execution_count": 3,
   "metadata": {},
   "outputs": [],
   "source": [
    "# Importing Data\n",
    "visits = pd.read_csv('datasets/visits_log_us.csv')\n",
    "orders = pd.read_csv('datasets/orders_log_us.csv')\n",
    "costs = pd.read_csv('datasets/costs_us.csv')"
   ]
  },
  {
   "cell_type": "code",
   "execution_count": 4,
   "metadata": {},
   "outputs": [
    {
     "name": "stdout",
     "output_type": "stream",
     "text": [
      "    Device               End Ts  Source Id             Start Ts  \\\n",
      "0    touch  2017-12-20 17:38:00          4  2017-12-20 17:20:00   \n",
      "1  desktop  2018-02-19 17:21:00          2  2018-02-19 16:53:00   \n",
      "2    touch  2017-07-01 01:54:00          5  2017-07-01 01:54:00   \n",
      "3  desktop  2018-05-20 11:23:00          9  2018-05-20 10:59:00   \n",
      "4  desktop  2017-12-27 14:06:00          3  2017-12-27 14:06:00   \n",
      "\n",
      "                    Uid  \n",
      "0  16879256277535980062  \n",
      "1    104060357244891740  \n",
      "2   7459035603376831527  \n",
      "3  16174680259334210214  \n",
      "4   9969694820036681168  \n",
      "                Buy Ts  Revenue                   Uid\n",
      "0  2017-06-01 00:10:00    17.00  10329302124590727494\n",
      "1  2017-06-01 00:25:00     0.55  11627257723692907447\n",
      "2  2017-06-01 00:27:00     0.37  17903680561304213844\n",
      "3  2017-06-01 00:29:00     0.55  16109239769442553005\n",
      "4  2017-06-01 07:58:00     0.37  14200605875248379450\n",
      "   source_id          dt  costs\n",
      "0          1  2017-06-01  75.20\n",
      "1          1  2017-06-02  62.25\n",
      "2          1  2017-06-03  36.53\n",
      "3          1  2017-06-04  55.00\n",
      "4          1  2017-06-05  57.08\n"
     ]
    }
   ],
   "source": [
    "# Data Sample Inspection\n",
    "print(visits.head())\n",
    "print(orders.head())\n",
    "print(costs.head())"
   ]
  },
  {
   "cell_type": "code",
   "execution_count": 5,
   "metadata": {},
   "outputs": [],
   "source": [
    "# Standardize Column Names (snake_case) \n",
    "visits.columns = ['device', 'end_ts', 'source_id', 'start_ts', 'uid']\n",
    "orders.columns = ['buy_ts', 'revenue', 'uid']\n",
    "costs.columns = ['source_id', 'dt', 'costs']\n"
   ]
  },
  {
   "cell_type": "code",
   "execution_count": 6,
   "metadata": {},
   "outputs": [],
   "source": [
    "# Convert Date Columns to Datetime\n",
    "visits['start_ts'] = pd.to_datetime(visits['start_ts'])\n",
    "visits['end_ts'] = pd.to_datetime(visits['end_ts'])\n",
    "orders['buy_ts'] = pd.to_datetime(orders['buy_ts'])\n",
    "costs['dt'] = pd.to_datetime(costs['dt'])"
   ]
  },
  {
   "cell_type": "code",
   "execution_count": 7,
   "metadata": {},
   "outputs": [
    {
     "name": "stdout",
     "output_type": "stream",
     "text": [
      "<class 'pandas.core.frame.DataFrame'>\n",
      "RangeIndex: 359400 entries, 0 to 359399\n",
      "Data columns (total 5 columns):\n",
      " #   Column     Non-Null Count   Dtype         \n",
      "---  ------     --------------   -----         \n",
      " 0   device     359400 non-null  object        \n",
      " 1   end_ts     359400 non-null  datetime64[ns]\n",
      " 2   source_id  359400 non-null  int64         \n",
      " 3   start_ts   359400 non-null  datetime64[ns]\n",
      " 4   uid        359400 non-null  uint64        \n",
      "dtypes: datetime64[ns](2), int64(1), object(1), uint64(1)\n",
      "memory usage: 13.7+ MB\n",
      "None\n",
      "<class 'pandas.core.frame.DataFrame'>\n",
      "RangeIndex: 50415 entries, 0 to 50414\n",
      "Data columns (total 3 columns):\n",
      " #   Column   Non-Null Count  Dtype         \n",
      "---  ------   --------------  -----         \n",
      " 0   buy_ts   50415 non-null  datetime64[ns]\n",
      " 1   revenue  50415 non-null  float64       \n",
      " 2   uid      50415 non-null  uint64        \n",
      "dtypes: datetime64[ns](1), float64(1), uint64(1)\n",
      "memory usage: 1.2 MB\n",
      "None\n",
      "<class 'pandas.core.frame.DataFrame'>\n",
      "RangeIndex: 2542 entries, 0 to 2541\n",
      "Data columns (total 3 columns):\n",
      " #   Column     Non-Null Count  Dtype         \n",
      "---  ------     --------------  -----         \n",
      " 0   source_id  2542 non-null   int64         \n",
      " 1   dt         2542 non-null   datetime64[ns]\n",
      " 2   costs      2542 non-null   float64       \n",
      "dtypes: datetime64[ns](1), float64(1), int64(1)\n",
      "memory usage: 59.7 KB\n",
      "None\n"
     ]
    }
   ],
   "source": [
    "# Verify Data Types\n",
    "print(visits.info())\n",
    "print(orders.info())\n",
    "print(costs.info())"
   ]
  },
  {
   "cell_type": "code",
   "execution_count": 8,
   "metadata": {},
   "outputs": [
    {
     "name": "stdout",
     "output_type": "stream",
     "text": [
      "device       0\n",
      "end_ts       0\n",
      "source_id    0\n",
      "start_ts     0\n",
      "uid          0\n",
      "dtype: int64\n",
      "buy_ts     0\n",
      "revenue    0\n",
      "uid        0\n",
      "dtype: int64\n",
      "source_id    0\n",
      "dt           0\n",
      "costs        0\n",
      "dtype: int64\n"
     ]
    }
   ],
   "source": [
    "# Check for Missing Values\n",
    "print(visits.isnull().sum())\n",
    "print(orders.isnull().sum())\n",
    "print(costs.isnull().sum())"
   ]
  },
  {
   "cell_type": "markdown",
   "metadata": {},
   "source": [
    "# 2. Reporting and Metric Calculation"
   ]
  },
  {
   "cell_type": "markdown",
   "metadata": {},
   "source": [
    "# 2.1 Product  "
   ]
  },
  {
   "cell_type": "code",
   "execution_count": null,
   "metadata": {},
   "outputs": [],
   "source": [
    "# Create Rounded Date Columns\n",
    "visits['date'] = visits['start_ts'].dt.date\n",
    "visits['week'] = visits['start_ts'].dt.to_period('W').apply(lambda r: r.start_time)\n",
    "visits['month'] = visits['start_ts'].dt.to_period('M').astype(str)"
   ]
  },
  {
   "cell_type": "code",
   "execution_count": null,
   "metadata": {},
   "outputs": [],
   "source": [
    "# Unique Users by Day, Week, and Month\n",
    "users_daily = visits.groupby('date')['uid'].nunique()\n",
    "users_weekly = visits.groupby('week')['uid'].nunique()\n",
    "users_monthly = visits.groupby('month')['uid'].nunique()"
   ]
  },
  {
   "cell_type": "code",
   "execution_count": null,
   "metadata": {},
   "outputs": [],
   "source": [
    "# Visualize Results\n",
    "print(\"Unique users by day:\")\n",
    "print(users_daily.head())\n",
    "\n",
    "print(\"\\nUnique users by week:\")\n",
    "print(users_weekly.head())\n",
    "\n",
    "print(\"\\nUnique users by month:\")\n",
    "print(users_monthly.head())\n",
    "\n"
   ]
  },
  {
   "cell_type": "code",
   "execution_count": null,
   "metadata": {},
   "outputs": [],
   "source": [
    "# Each Row Represents One Session (Visit) \n",
    "sessions_per_day = visits.groupby('date')['uid'].count()\n",
    "\n",
    "print(\"Daily Session Count:\")\n",
    "print(sessions_per_day.head())"
   ]
  },
  {
   "cell_type": "code",
   "execution_count": null,
   "metadata": {},
   "outputs": [],
   "source": [
    "# Calculate Session Duration (Seconds and Minutes)\n",
    "visits['session_duration_min'] = (visits['end_ts'] - visits['start_ts']).dt.total_seconds() / 60"
   ]
  },
  {
   "cell_type": "code",
   "execution_count": null,
   "metadata": {},
   "outputs": [],
   "source": [
    "# Display Descriptive Statistics\n",
    "print(\"Session Duration in Minutes:\")\n",
    "print(visits['session_duration_min'].describe())"
   ]
  },
  {
   "cell_type": "code",
   "execution_count": null,
   "metadata": {},
   "outputs": [],
   "source": [
    "# Sort by User and Visit Date\n",
    "visits_sorted = visits.sort_values(by=['uid', 'start_ts'])"
   ]
  },
  {
   "cell_type": "code",
   "execution_count": null,
   "metadata": {},
   "outputs": [],
   "source": [
    "# Calculate Time Between Consecutive Visits \n",
    "visits_sorted['prev_session'] = visits_sorted.groupby('uid')['start_ts'].shift()\n",
    "visits_sorted['days_between_visits'] = (visits_sorted['start_ts'] - visits_sorted['prev_session']).dt.days"
   ]
  },
  {
   "cell_type": "code",
   "execution_count": null,
   "metadata": {},
   "outputs": [],
   "source": [
    "# Visualize Average Inter-Visit Time \n",
    "print(\"Average Inter-Visit Time (in Days):\")\n",
    "print(visits_sorted['days_between_visits'].mean())"
   ]
  },
  {
   "cell_type": "markdown",
   "metadata": {},
   "source": [
    "Conclusion: Product Usage Analysis\n",
    "Key Findings:\n",
    "\n",
    "Good daily session volume.\n",
    "\n",
    "Quick interactions (short session duration).\n",
    "\n",
    "Returning user behavior that can be leveraged for re-engagement strategies.\n",
    "\n",
    "These initial metrics help us understand how the product is used, creating a solid foundation for decisions regarding marketing, product improvements, and retention efforts.\n",
    "\n"
   ]
  },
  {
   "cell_type": "code",
   "execution_count": null,
   "metadata": {},
   "outputs": [],
   "source": [
    "# Prepare Data for Cohort Analysis\n",
    "visits['month'] = visits['start_ts'].dt.to_period('M')\n",
    "first_month = visits.groupby('uid')['month'].min().reset_index()\n",
    "first_month.columns = ['uid', 'first_month']\n",
    "df_visits = visits.merge(first_month, on='uid')\n",
    "df_visits['lifetime'] = (df_visits['month'] - df_visits['first_month']).apply(lambda x: x.n)\n",
    "\n",
    "# Calculate Cohort Retention\n",
    "cohort = df_visits.groupby(['first_month', 'lifetime']).agg({'uid': 'nunique'}).reset_index()\n",
    "initial_users = cohort[cohort['lifetime'] == 0][['first_month', 'uid']].rename(columns={'uid': 'users'})\n",
    "cohort = cohort.merge(initial_users, on='first_month')\n",
    "cohort['retention'] = cohort['uid'] / cohort['users']\n",
    "\n",
    "# Create the Retention Matrix \n",
    "retention_pivot = cohort.pivot_table(index='first_month', columns='lifetime', values='retention', aggfunc='sum')\n",
    "\n",
    "# Visualize with Heatmap\n",
    "plt.figure(figsize=(12, 8))\n",
    "sns.heatmap(\n",
    "    retention_pivot,\n",
    "    annot=True,\n",
    "    fmt='.0%',\n",
    "    cmap='Blues',\n",
    "    linewidths=0.5,\n",
    "    cbar_kws={'label': 'Retenção'}\n",
    ")\n",
    "plt.title('Cohort Retention Rate', fontsize=16, weight='bold')\n",
    "plt.xlabel('Months Since First Access', fontsize=12)\n",
    "plt.ylabel('Acquisition Cohort (Month)', fontsize=12)\n",
    "plt.xticks(rotation=0)\n",
    "plt.yticks(rotation=0)\n",
    "plt.tight_layout()\n",
    "plt.show()"
   ]
  },
  {
   "cell_type": "markdown",
   "metadata": {},
   "source": [
    "# 2.2 Sales"
   ]
  },
  {
   "cell_type": "code",
   "execution_count": null,
   "metadata": {},
   "outputs": [],
   "source": [
    "# Get User's First Visit Date\n",
    "first_visits = visits.groupby('uid')['start_ts'].min().reset_index()\n",
    "first_visits.columns = ['uid', 'first_visit_date']"
   ]
  },
  {
   "cell_type": "code",
   "execution_count": null,
   "metadata": {},
   "outputs": [],
   "source": [
    "# Get User's First Purchase Date\n",
    "first_orders = orders.groupby('uid')['buy_ts'].min().reset_index()\n",
    "first_orders.columns = ['uid', 'first_order_date']\n"
   ]
  },
  {
   "cell_type": "code",
   "execution_count": null,
   "metadata": {},
   "outputs": [],
   "source": [
    "# Merge First Visit and Purchase Dates\n",
    "conversion = pd.merge(first_visits, first_orders, on='uid')"
   ]
  },
  {
   "cell_type": "code",
   "execution_count": null,
   "metadata": {},
   "outputs": [],
   "source": [
    "# Calculate Time to First Purchase\n",
    "conversion['conversion_days'] = (conversion['first_order_date'] - conversion['first_visit_date']).dt.days"
   ]
  },
  {
   "cell_type": "code",
   "execution_count": null,
   "metadata": {},
   "outputs": [],
   "source": [
    "# Distribution of Days to Conversion \n",
    "print(\"Distribution of Days to First Purchase:\")\n",
    "print(conversion['conversion_days'].value_counts().sort_index())\n",
    "\n",
    "# Display Overall Statistics\n",
    "print(\"\\nGeneral Statistics for Time to Conversion:\")\n",
    "print(conversion['conversion_days'].describe())\n"
   ]
  },
  {
   "cell_type": "code",
   "execution_count": null,
   "metadata": {},
   "outputs": [],
   "source": [
    "# Number of Orders Per User\n",
    "orders_per_user = orders.groupby('uid').size()"
   ]
  },
  {
   "cell_type": "code",
   "execution_count": null,
   "metadata": {},
   "outputs": [],
   "source": [
    "# Descriptive Statistics\n",
    "print(\"Orders per User:\")\n",
    "print(orders_per_user.describe())"
   ]
  },
  {
   "cell_type": "code",
   "execution_count": null,
   "metadata": {},
   "outputs": [],
   "source": [
    "# Plot Histogram\n",
    "\n",
    "orders_per_user.plot(kind='hist', bins=range(1, 11), rwidth=0.8)\n",
    "plt.title('Distribution of Orders Per Customer (1 a 10)')\n",
    "plt.xlabel('Total Number of Orders')\n",
    "plt.ylabel('Customer Count')\n",
    "plt.grid(True)\n",
    "plt.show()"
   ]
  },
  {
   "cell_type": "code",
   "execution_count": null,
   "metadata": {},
   "outputs": [],
   "source": [
    "# Filter for First 15 Days of Conversion\n",
    "conversion_counts = conversion['conversion_days'].value_counts().sort_index()\n",
    "conversion_counts = conversion_counts[conversion_counts.index <= 15]\n",
    "\n",
    "# New Chart Focusing on Initial Days \n",
    "plt.figure(figsize=(10, 5))\n",
    "conversion_counts.plot(kind='bar', color='skyblue')\n",
    "plt.title('Distribution of Days to Conversion  (0–15 dias)')\n",
    "plt.xlabel('Days Between First Visit and First Purchase')\n",
    "plt.ylabel('Number of Users')\n",
    "plt.xticks(rotation=0)\n",
    "plt.grid(axis='y')\n",
    "plt.tight_layout()\n",
    "plt.show()"
   ]
  },
  {
   "cell_type": "code",
   "execution_count": null,
   "metadata": {},
   "outputs": [],
   "source": [
    "# Statistics on Order Value\n",
    "print(\"Order Value Descriptive Statistics:\")\n",
    "print(orders['revenue'].describe())\n"
   ]
  },
  {
   "cell_type": "markdown",
   "metadata": {},
   "source": [
    "The graph shows that the September 2017 cohort had the highest accumulated LTV, reaching R$13.44 after 11 months. This indicates that the customers acquired during this period were the most valuable over time. More recent cohorts have not yet had enough time to accumulate a high LTV.\n"
   ]
  },
  {
   "cell_type": "code",
   "execution_count": null,
   "metadata": {},
   "outputs": [],
   "source": [
    "# Overall Lifetime Value (LTV) Metrics\n",
    "print(\"\\nUser Total Revenue Metrics:\")\n",
    "print(revenue_per_user.describe())"
   ]
  },
  {
   "cell_type": "markdown",
   "metadata": {},
   "source": [
    "Sales analysis showed that the majority of users make their first purchase on the same day they first visit the website, indicating quick and effective conversion right at the first contact with the product. This is visible in the daily conversion graph, which shows a sharp peak in the initial days and a progressive decline thereafter. This suggests that the initial experience is efficient, but there is an opportunity to stimulate delayed conversions. Regarding order frequency, almost all customers made only one purchase, which reveals a pattern of one-time use and low recurrence. Furthermore, the average order value is relatively low. Since most customers do not place new orders, the LTV (Lifetime Value) also remains low, reinforcing the importance of retention and loyalty strategies to increase both the frequency and the value of purchases over time.\n",
    "\n"
   ]
  },
  {
   "cell_type": "markdown",
   "metadata": {},
   "source": [
    "# 2.3 Marketing and ROI Analysis"
   ]
  },
  {
   "cell_type": "code",
   "execution_count": null,
   "metadata": {},
   "outputs": [],
   "source": [
    "Total Marketing Spend\n",
    "total_cost = costs['costs'].sum()\n",
    "print(f\"Total Marketing Spend: ${total_cost:.2f}\")"
   ]
  },
  {
   "cell_type": "code",
   "execution_count": null,
   "metadata": {},
   "outputs": [],
   "source": [
    "# Costs by Ad Source (source_id)\n",
    "costs_by_source = costs.groupby('source_id')['costs'].sum()\n",
    "print(\"\\n# Costs by Ad Source:\")\n",
    "print(costs_by_source)"
   ]
  },
  {
   "cell_type": "code",
   "execution_count": null,
   "metadata": {},
   "outputs": [],
   "source": [
    "# Marketing Spend Over Time (Monthly)\n",
    "costs['month'] = costs['dt'].dt.to_period('M')\n",
    "costs_by_month = costs.groupby('month')['costs'].sum()"
   ]
  },
  {
   "cell_type": "code",
   "execution_count": null,
   "metadata": {},
   "outputs": [],
   "source": [
    "# Chart: Monthly Marketing Spend \n",
    "costs_by_month.plot(kind='bar', figsize=(12,5), title='Gastos mensais em marketing# Chart: Monthly Marketing Spend ', color='coral')\n",
    "plt.ylabel('Amount Spent ($)')\n",
    "plt.xlabel('Month')\n",
    "plt.xticks(rotation=45)\n",
    "plt.grid(axis='y')\n",
    "plt.tight_layout()\n",
    "plt.show()"
   ]
  },
  {
   "cell_type": "markdown",
   "metadata": {},
   "source": [
    "The bar represents the total amount invested in marketing each month (summing all channels).\n",
    "The chart helps visualize peaks in investment and periods with lower spending.\n",
    "\n",
    "Conclusion: The chart shows that marketing spending increased significantly at the end of 2017, peaking between October and December. Starting in 2018, investments began to fall gradually. This may indicate an intense acquisition campaign at the end of the year, followed by a strategic reduction in subsequent months.\n",
    "\n"
   ]
  },
  {
   "cell_type": "code",
   "execution_count": null,
   "metadata": {},
   "outputs": [],
   "source": [
    "# Determine Acquisition Month and Source per User\n",
    "first_visits = visits.groupby('uid').agg({'start_ts': 'min', 'source_id': 'first'})\n",
    "first_visits['month'] = first_visits['start_ts'].dt.to_period('M')"
   ]
  },
  {
   "cell_type": "code",
   "execution_count": null,
   "metadata": {},
   "outputs": [],
   "source": [
    "# New Users by Source and Month\n",
    "new_users = first_visits.groupby(['source_id', 'month']).size().reset_index(name='new_users')\n"
   ]
  },
  {
   "cell_type": "code",
   "execution_count": null,
   "metadata": {},
   "outputs": [],
   "source": [
    "# Spend by Source and Month\n",
    "monthly_costs = costs.groupby(['source_id', 'month'])['costs'].sum().reset_index()\n"
   ]
  },
  {
   "cell_type": "code",
   "execution_count": null,
   "metadata": {},
   "outputs": [],
   "source": [
    "# Combine Acquisition and Marketing Spend Data\n",
    "cac = pd.merge(monthly_costs, new_users, on=['source_id', 'month'], how='left')\n",
    "cac['cac'] = cac['costs'] / cac['new_users']"
   ]
  },
  {
   "cell_type": "code",
   "execution_count": null,
   "metadata": {},
   "outputs": [],
   "source": [
    "# View Results\n",
    "print(\"\\nCustomer Acquisition Cost (CAC) by Source and Month(CAC):\")\n",
    "print(cac[['source_id', 'month', 'cac']].dropna().head())"
   ]
  },
  {
   "cell_type": "code",
   "execution_count": null,
   "metadata": {},
   "outputs": [],
   "source": [
    "# Chart: Average CAC by Source\n",
    "avg_cac_by_source = cac.groupby('source_id')['cac'].mean()\n",
    "avg_cac_by_source.plot(kind='bar', figsize=(10,5), title='Average CAC by Source ', color='skyblue')\n",
    "plt.ylabel('CAC ($)')\n",
    "plt.xlabel('Source ID')\n",
    "plt.grid(axis='y')\n",
    "plt.tight_layout()\n",
    "plt.show()"
   ]
  },
  {
   "cell_type": "markdown",
   "metadata": {},
   "source": [
    "The chart displays the Average Customer Acquisition Cost (CAC) for each ad source (source_id). It reveals how much, on average, was spent to acquire a single customer through each marketing channel.\n",
    "\n",
    "Some ad sources are much more efficient than others. Channels with IDs 4, 9, and 10 acquired customers at a lower cost, while channels 2 and 3 had a higher CAC, which could compromise profitability if the Lifetime Value (LTV) doesn't compensate."
   ]
  },
  {
   "cell_type": "code",
   "execution_count": null,
   "metadata": {},
   "outputs": [],
   "source": [
    "# Create Column for Purchase Month \n",
    "orders['order_month'] = orders['buy_ts'].dt.to_period('M')\n",
    "\n",
    "# Identify User's First Purchase Month\n",
    "first_order_month = orders.groupby('uid')['order_month'].min().reset_index().rename(columns={'order_month': 'first_order_month'})\n",
    "\n",
    "# Merge with Orders DataFrame\n",
    "cohorts = pd.merge(orders, first_order_month, on='uid')\n",
    "\n",
    "# Calculate Cohort Lifetime (Time Since Acquisition)\n",
    "cohorts['cohort_lifetime'] = (cohorts['order_month'] - cohorts['first_order_month']).apply(lambda x: x.n)\n",
    "\n",
    "# Group Revenue and Buyers by Cohort and Month \n",
    "cohorts_agg = cohorts.groupby(['first_order_month', 'order_month']).agg(\n",
    "    revenue=('revenue', 'sum'),\n",
    "    n_buyers=('uid', 'nunique')\n",
    ").reset_index()\n",
    "\n",
    "# Recalculate Cohort Lifetime \n",
    "cohorts_agg['cohort_lifetime'] = (cohorts_agg['order_month'] - cohorts_agg['first_order_month']).apply(lambda x: x.n)\n",
    "\n",
    "# Prepare Monthly Cost Data \n",
    "costs['costs_month'] = costs['dt'].dt.to_period('M')\n",
    "monthly_costs = costs.groupby('costs_month').agg(costs=('costs', 'sum')).reset_index()\n",
    "\n",
    "# Merge Costs with Cohort Data\n",
    "cohorts_agg = pd.merge(cohorts_agg, monthly_costs, left_on='order_month', right_on='costs_month', how='left')\n",
    "\n",
    "# Calculate CAC, LTV, and ROMI (\n",
    "cohorts_agg['cac'] = cohorts_agg['costs'] / cohorts_agg['n_buyers']\n",
    "cohorts_agg['ltv'] = cohorts_agg['revenue'] / cohorts_agg['n_buyers']\n",
    "cohorts_agg['romi'] = cohorts_agg['ltv'] / cohorts_agg['cac']\n",
    "\n",
    "# Create Pivot Table with ROMI\n",
    "romi_pivot = cohorts_agg.pivot_table(\n",
    "    index='first_order_month',\n",
    "    columns='cohort_lifetime',\n",
    "    values='romi',\n",
    "    aggfunc='mean'\n",
    ").round(2)\n",
    "\n",
    "# Visualize ROMI with Heatmap\n",
    "plt.figure(figsize=(12, 8))\n",
    "sns.heatmap(\n",
    "    romi_pivot,\n",
    "    annot=True,\n",
    "    fmt='.2f',\n",
    "    cmap='BuGn',\n",
    "    linewidths=0.5,\n",
    "    cbar_kws={'label': 'ROMI acumulado'}\n",
    ")\n",
    "\n",
    "plt.title('Accumulated ROMI by Purchase Cohort', fontsize=16, weight='bold')\n",
    "plt.xlabel('Cohort Lifetime (in Months)', fontsize=12)\n",
    "plt.ylabel('Cohort (Month of First Purchase) ', fontsize=12)\n",
    "plt.xticks(rotation=0)\n",
    "plt.yticks(rotation=0)\n",
    "plt.tight_layout()\n",
    "plt.show()\n"
   ]
  },
  {
   "cell_type": "markdown",
   "metadata": {},
   "source": [
    "The chart shows that most of the Return on Marketing Investment (ROMI) occurs right in the first month after customer acquisition, especially for the July 2017 and May 2018 cohorts, with initial values up to 0.63. Overall, the accumulated ROMI tends to grow very little over time, indicating that the financial return from marketing campaigns is concentrated at the beginning of the customer journey.\n",
    "\n"
   ]
  },
  {
   "cell_type": "markdown",
   "metadata": {},
   "source": [
    "# 3. Project Conclusion"
   ]
  },
  {
   "cell_type": "markdown",
   "metadata": {},
   "source": [
    "\n",
    "Based on the analysis of marketing, user behavior, and sales performance, we were able to identify which channels and strategies delivered the best results for the business.\n",
    "\n",
    "---\n",
    "\n",
    "### Investment Recommendations\n",
    "\n",
    "By analyzing **CAC (Customer Acquisition Cost)** and **ROI (Return on Investment)**, the most recommended channels are:\n",
    "\n",
    "* **Source ID 1:** Showed the **highest ROI (above 1.2)**, indicating that every dollar invested generated more than double the revenue. Although not the cheapest CAC, it was the most profitable channel.\n",
    "* **Source ID 9:** Had one of the **lowest CACs** and a **positive ROI**, making it an efficient, low-risk option.\n",
    "\n",
    "Channels like **Source 3 and 10**, however, generated a **negative ROI** and should be avoided, even though they had moderate or low CAC.\n",
    "\n",
    "---\n",
    "\n",
    "### Key Metrics Used for Decision-Making\n",
    "\n",
    "* **CAC** identified the most expensive or cheapest channels to acquire customers but was not used in isolation.\n",
    "* **ROI** was the main metric used to assess the return on investment.\n",
    "* **Average Revenue per Device** showed that **desktop users generate more revenue** than mobile users, which may influence segmentation decisions.\n",
    "* **LTV per Cohort** highlighted that the majority of customers make only one purchase, with little value growth over the months.\n",
    "* **ROMI per Cohort** confirmed that the return on investment occurs mainly in the first month post-acquisition, with low cumulative growth.\n",
    "\n",
    "---\n",
    "\n",
    "### Overall Conclusion\n",
    "\n",
    "Most marketing spending occurred between October and December 2017. However, only a few channels provided a positive return, reinforcing the importance of constantly monitoring channel-specific metrics. The recommendation is to **focus investments on channels with proven positive ROI**, such as **Source 1 and 9**, and to rethink channels with unsatisfactory performance.\n",
    "\n",
    "Furthermore, since the repurchase rate is low and **LTV does not grow significantly over time**, **loyalty and retention initiatives** must be a priority to increase future profitability.\n",
    "\n",
    "---"
   ]
  }
 ],
 "metadata": {
  "kernelspec": {
   "display_name": "Python 3 (ipykernel)",
   "language": "python",
   "name": "python3"
  },
  "language_info": {
   "codemirror_mode": {
    "name": "ipython",
    "version": 3
   },
   "file_extension": ".py",
   "mimetype": "text/x-python",
   "name": "python",
   "nbconvert_exporter": "python",
   "pygments_lexer": "ipython3",
   "version": "3.12.7"
  }
 },
 "nbformat": 4,
 "nbformat_minor": 4
}
